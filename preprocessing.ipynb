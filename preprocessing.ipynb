{
  "nbformat": 4,
  "nbformat_minor": 0,
  "metadata": {
    "colab": {
      "name": "Untitled6.ipynb",
      "provenance": [],
      "collapsed_sections": [],
      "authorship_tag": "ABX9TyPXD+vY63CdwmT26EQaHEIB",
      "include_colab_link": true
    },
    "kernelspec": {
      "name": "python3",
      "display_name": "Python 3"
    }
  },
  "cells": [
    {
      "cell_type": "markdown",
      "metadata": {
        "id": "view-in-github",
        "colab_type": "text"
      },
      "source": [
        "<a href=\"https://colab.research.google.com/github/koleshjr/intro/blob/master/preprocessing.ipynb\" target=\"_parent\"><img src=\"https://colab.research.google.com/assets/colab-badge.svg\" alt=\"Open In Colab\"/></a>"
      ]
    },
    {
      "cell_type": "code",
      "metadata": {
        "id": "MdRrBAJnDEHv"
      },
      "source": [
        "#importing the libraries\n",
        "import pandas as pd\n",
        "import matplotlib.pyplot as plt\n",
        "import numpy as np\n",
        "import seaborn as sns\n",
        "import gc\n",
        "%matplotlib inline"
      ],
      "execution_count": 1,
      "outputs": []
    },
    {
      "cell_type": "code",
      "metadata": {
        "id": "KQqdtLEPEy_n"
      },
      "source": [
        "pd.set_option('display.max_rows',650)\n",
        "pd.set_option('display.max_columns',50)"
      ],
      "execution_count": 3,
      "outputs": []
    },
    {
      "cell_type": "code",
      "metadata": {
        "id": "NBzkXegUFSd9"
      },
      "source": [
        "import lightgbm as lgb\n",
        "from sklearn import feature_extraction\n",
        "from sklearn.linear_model import LinearRegression\n",
        "from sklearn.metrics import r2_score\n",
        "from tqdm import tqdm,tqdm_notebook\n",
        "tqdm.monitor_interval = 0\n",
        "\n"
      ],
      "execution_count": 4,
      "outputs": []
    },
    {
      "cell_type": "code",
      "metadata": {
        "id": "3fbvTJL9GuSU"
      },
      "source": [
        "from itertools import product\n",
        "import warnings\n",
        "warnings.simplefilter(action='ignore',category='FutureWarning')\n",
        "warnings.filterwarnings(action='ignore',module='scipy',message='^internal gelsd')"
      ],
      "execution_count": 7,
      "outputs": []
    },
    {
      "cell_type": "code",
      "metadata": {
        "id": "nZje0SHLcurC"
      },
      "source": [
        "def downcast_dtypes(df):\n",
        "  float_cols= [c for c in df if df[c].dtype =='float64']\n",
        "  int_cols= [c for c in df if df[c].dtype == 'int64']\n",
        "  df[float_cols] = df[float_cols].astype(np.float32)\n",
        "  df[int_cols] = df[int_cols].astype(np.int32)\n",
        "  return df"
      ],
      "execution_count": 9,
      "outputs": []
    },
    {
      "cell_type": "code",
      "metadata": {
        "id": "cCe7Hg-qhXhJ"
      },
      "source": [
        ""
      ],
      "execution_count": null,
      "outputs": []
    }
  ]
}